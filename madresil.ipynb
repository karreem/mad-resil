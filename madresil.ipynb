{
 "cells": [
  {
   "cell_type": "code",
   "execution_count": 54,
   "id": "18783c75-e9f2-4c9d-8054-efbe868f42db",
   "metadata": {},
   "outputs": [],
   "source": [
    "from pyspark.sql import SparkSession\n",
    "\n",
    "import os\n",
    "\n",
    "spark = (SparkSession \n",
    "         .builder\n",
    "         .config(\"spark.dynamicAllocation.maxExecutors\",\"8\")\n",
    "         .config(\"spark.executor.memory\", \"4g\")\n",
    "         #.config(\"spark.hadoop.fs.s3a.block.size\",\"1024M\")\n",
    "         #.config(\"spark.sql.files.maxPartitionBytes\",\"1024M\")\n",
    "         #.config(\"spark.default.parallelism\",32)\n",
    "         #.config(\"spark.sql.shuffle.partitions\",32)\n",
    "         .enableHiveSupport()\n",
    "         .getOrCreate()\n",
    "        )\n",
    "\n",
    "sc = spark.sparkContext"
   ]
  },
  {
   "cell_type": "code",
   "execution_count": 55,
   "id": "b8c09b79-a795-48b5-847e-584299d2eb5c",
   "metadata": {},
   "outputs": [
    {
     "name": "stdout",
     "output_type": "stream",
     "text": [
      "<?xml version=\"1.0\"?>\n",
      "<?xml-stylesheet type=\"text/xsl\" href=\"configuration.xsl\"?>\n",
      "<configuration>\n",
      "<property>\n",
      "    <name>hive.metastore.uris</name>\n",
      "        <value>thrift://hive-metastore:9083</value>\n",
      "    </property>\n",
      "</configuration>\n"
     ]
    }
   ],
   "source": [
    "%cat /opt/hive/conf/hive-site.xml"
   ]
  },
  {
   "cell_type": "code",
   "execution_count": 56,
   "id": "c9a94dff-542c-4a44-9beb-c59d2605e3ea",
   "metadata": {},
   "outputs": [
    {
     "name": "stdout",
     "output_type": "stream",
     "text": [
      "root\n",
      " |-- csdep: integer (nullable = true)\n",
      " |-- csdir: integer (nullable = true)\n",
      " |-- csdior: integer (nullable = true)\n",
      " |-- kccof: integer (nullable = true)\n",
      " |-- kccos: integer (nullable = true)\n",
      " |-- clcof: string (nullable = true)\n",
      " |-- datrfi: integer (nullable = true)\n",
      " |-- cidom4: string (nullable = true)\n",
      " |-- zvers: string (nullable = true)\n",
      " |-- ndcod: long (nullable = true)\n",
      " |-- ndcokd: integer (nullable = true)\n",
      " |-- cccoec: integer (nullable = true)\n",
      " |-- datrco: integer (nullable = true)\n",
      " |-- cidoco: string (nullable = true)\n",
      " |-- zverco: string (nullable = true)\n",
      " |-- dacoad: string (nullable = true)\n",
      " |-- dacomd: string (nullable = true)\n",
      " |-- dacojd: string (nullable = true)\n",
      " |-- cidetb: string (nullable = true)\n",
      " |-- cidetc: string (nullable = true)\n",
      " |-- cideek: string (nullable = true)\n",
      " |-- cideec: string (nullable = true)\n",
      " |-- cideea: string (nullable = true)\n",
      " |-- cideef: string (nullable = true)\n",
      " |-- cideer: string (nullable = true)\n",
      " |-- cideen: string (nullable = true)\n",
      " |-- cideed: string (nullable = true)\n",
      " |-- cideey: string (nullable = true)\n",
      " |-- cideee: string (nullable = true)\n",
      " |-- cideem: string (nullable = true)\n",
      " |-- cideeo: string (nullable = true)\n",
      " |-- cideeg: string (nullable = true)\n",
      " |-- cideet: string (nullable = true)\n",
      " |-- cicoef: string (nullable = true)\n",
      " |-- dacoef: string (nullable = true)\n",
      " |-- dmcoei: string (nullable = true)\n",
      " |-- dacoei: string (nullable = true)\n",
      " |-- cncoip: string (nullable = true)\n",
      " |-- cideci: string (nullable = true)\n",
      " |-- cifofc: string (nullable = true)\n",
      " |-- zoxyzd: string (nullable = true)\n",
      " |-- dacodj: string (nullable = true)\n",
      " |-- dacodm: string (nullable = true)\n",
      " |-- dacoda: string (nullable = true)\n",
      " |-- zoxyzp: string (nullable = true)\n",
      " |-- dacopj: string (nullable = true)\n",
      " |-- dacopm: string (nullable = true)\n",
      " |-- dacopa: string (nullable = true)\n",
      " |-- csdiam: string (nullable = true)\n",
      " |-- kccofm: string (nullable = true)\n",
      " |-- kccosm: string (nullable = true)\n",
      " |-- nscom: string (nullable = true)\n",
      " |-- cncofm: string (nullable = true)\n",
      " |-- cicokc: string (nullable = true)\n",
      " |-- ciifc5: string (nullable = true)\n",
      " |-- cicoe2: string (nullable = true)\n",
      " |-- cicot2: string (nullable = true)\n",
      " |-- cicoe3: string (nullable = true)\n",
      " |-- cicot3: string (nullable = true)\n",
      " |-- cicoe4: string (nullable = true)\n",
      " |-- cicot4: string (nullable = true)\n",
      " |-- ciconv: string (nullable = true)\n",
      " |-- ciifse: string (nullable = true)\n",
      " |-- ciedsr: string (nullable = true)\n",
      " |-- cicosb: string (nullable = true)\n",
      " |-- cicopi: string (nullable = true)\n",
      " |-- cidea2: string (nullable = true)\n",
      " |-- cidep1: integer (nullable = true)\n",
      " |-- cicoco: string (nullable = true)\n",
      " |-- cidepu: integer (nullable = true)\n",
      " |-- daedin: integer (nullable = true)\n",
      " |-- cideop: string (nullable = true)\n",
      " |-- cideo1: string (nullable = true)\n",
      " |-- csdisu: string (nullable = true)\n",
      " |-- kccofc: string (nullable = true)\n",
      " |-- kccosu: string (nullable = true)\n",
      " |-- nscosu: string (nullable = true)\n",
      " |-- cncofc: string (nullable = true)\n",
      " |-- csdifd: string (nullable = true)\n",
      " |-- kccofd: string (nullable = true)\n",
      " |-- kccosd: string (nullable = true)\n",
      " |-- nscodc: string (nullable = true)\n",
      " |-- cncofd: string (nullable = true)\n",
      " |-- csdgn: string (nullable = true)\n",
      " |-- zid18n: string (nullable = true)\n",
      " |-- cithab: string (nullable = true)\n",
      " |-- cicorc: string (nullable = true)\n",
      " |-- cicori: string (nullable = true)\n",
      " |-- cipmrc: string (nullable = true)\n",
      " |-- dmconu: integer (nullable = true)\n",
      " |-- ndcob: long (nullable = true)\n",
      " |-- ndcobk: integer (nullable = true)\n",
      " |-- cicoou: string (nullable = true)\n",
      " |-- cicoon: string (nullable = true)\n",
      " |-- cideme: string (nullable = true)\n",
      " |-- cicjsp: string (nullable = true)\n",
      " |-- cidepa: string (nullable = true)\n",
      " |-- daedpa: string (nullable = true)\n",
      " |-- cocopm: integer (nullable = true)\n",
      " |-- cocopt: integer (nullable = true)\n",
      " |-- cmcoml: string (nullable = true)\n",
      " |-- dmcoml: integer (nullable = true)\n",
      " |-- cmcotp: string (nullable = true)\n",
      " |-- dmcotp: integer (nullable = true)\n",
      " |-- cmcot2: string (nullable = true)\n",
      " |-- dmcot2: string (nullable = true)\n",
      "\n"
     ]
    }
   ],
   "source": [
    "df = spark.read.format('csv').options(header='true', inferSchema='true', delimiter= ',').load(\"s3a://projet-arc-resil-poc/mad/fip_declarant_2021_sample.csv\")\n",
    "df.printSchema()"
   ]
  },
  {
   "cell_type": "code",
   "execution_count": 57,
   "id": "9c6581cf-8be6-445e-9c0a-b735a8c85d9e",
   "metadata": {},
   "outputs": [
    {
     "name": "stderr",
     "output_type": "stream",
     "text": [
      "                                                                                \r"
     ]
    }
   ],
   "source": [
    "df.write.mode(\"overwrite\").parquet(\"s3a://projet-arc-resil-poc/mad/parquet/fip_declarant_2021_sample\")"
   ]
  },
  {
   "cell_type": "code",
   "execution_count": 58,
   "id": "f4526178-321f-4dce-9d73-fe422de11d75",
   "metadata": {},
   "outputs": [],
   "source": [
    "spark.read.parquet(\"s3a://projet-arc-resil-poc/mad/parquet/fip_declarant_2021_sample\").createOrReplaceTempView(\"fip_declarant_2021_sample\")"
   ]
  },
  {
   "cell_type": "code",
   "execution_count": 59,
   "id": "4086c7c1-28b0-45f5-8dd7-c359bb0d9291",
   "metadata": {},
   "outputs": [
    {
     "name": "stdout",
     "output_type": "stream",
     "text": [
      "+-----+--------+\n",
      "|csdep|  datrfi|\n",
      "+-----+--------+\n",
      "|   97|20210310|\n",
      "+-----+--------+\n",
      "only showing top 1 row\n",
      "\n"
     ]
    }
   ],
   "source": [
    "spark.sql(\"SELECT csdep, datrfi from fip_declarant_2021_sample\").show(1)"
   ]
  },
  {
   "cell_type": "code",
   "execution_count": 62,
   "id": "47cdf29c-d78c-4c1c-95c5-b435c814dfcd",
   "metadata": {},
   "outputs": [
    {
     "name": "stdout",
     "output_type": "stream",
     "text": [
      "CREATE EXTERNAL TABLE IF NOT EXISTS poc.fip_declarant_2021_sample (csdep integer,csdir integer,csdior integer,kccof integer,kccos integer,clcof string,datrfi integer,cidom4 string,zvers string,ndcod long,ndcokd integer,cccoec integer,datrco integer,cidoco string,zverco string,dacoad string,dacomd string,dacojd string,cidetb string,cidetc string,cideek string,cideec string,cideea string,cideef string,cideer string,cideen string,cideed string,cideey string,cideee string,cideem string,cideeo string,cideeg string,cideet string,cicoef string,dacoef string,dmcoei string,dacoei string,cncoip string,cideci string,cifofc string,zoxyzd string,dacodj string,dacodm string,dacoda string,zoxyzp string,dacopj string,dacopm string,dacopa string,csdiam string,kccofm string,kccosm string,nscom string,cncofm string,cicokc string,ciifc5 string,cicoe2 string,cicot2 string,cicoe3 string,cicot3 string,cicoe4 string,cicot4 string,ciconv string,ciifse string,ciedsr string,cicosb string,cicopi string,cidea2 string,cidep1 integer,cicoco string,cidepu integer,daedin integer,cideop string,cideo1 string,csdisu string,kccofc string,kccosu string,nscosu string,cncofc string,csdifd string,kccofd string,kccosd string,nscodc string,cncofd string,csdgn string,zid18n string,cithab string,cicorc string,cicori string,cipmrc string,dmconu integer,ndcob long,ndcobk integer,cicoou string,cicoon string,cideme string,cicjsp string,cidepa string,daedpa string,cocopm integer,cocopt integer,cmcoml string,dmcoml integer,cmcotp string,dmcotp integer,cmcot2 string,dmcot2 string) STORED AS PARQUET LOCATION 's3a://projet-arc-resil-poc/mad/parquet/fip_declarant_2021_sample';\n"
     ]
    },
    {
     "data": {
      "text/plain": [
       "DataFrame[]"
      ]
     },
     "execution_count": 62,
     "metadata": {},
     "output_type": "execute_result"
    }
   ],
   "source": [
    "def check_array(dataType):\n",
    "    if dataType.typeName()==\"array\":\n",
    "        if \"Double\" in str(dataType):\n",
    "            return \"array<double>\"\n",
    "        elif \"String\" in str(dataType):\n",
    "            return \"array<string>\"\n",
    "        elif \"Date\" in str(dataType):\n",
    "            return \"array<date>\"\n",
    "        elif \"Long\" in str(dataType):\n",
    "            return \"array<long>\"\n",
    "        elif \"Timestamp\" in str(dataType):\n",
    "            return \"array<timestamp>\"\n",
    "        return str(dataType)+\"oups\"\n",
    "    else:\n",
    "        return dataType.typeName()\n",
    "    return \"array\"\n",
    "columns=\",\".join([f.name +\" \"+ check_array(f.dataType) for f in df.schema.fields if f.name !=\"h\"])\n",
    "createTable=\"CREATE EXTERNAL TABLE IF NOT EXISTS poc.fip_declarant_2021_sample (\"+columns+\") STORED AS PARQUET LOCATION 's3a://projet-arc-resil-poc/mad/parquet/fip_declarant_2021_sample';\"\n",
    "print(createTable)\n",
    "spark.sql(createTable)"
   ]
  },
  {
   "cell_type": "code",
   "execution_count": 39,
   "id": "10f2057c-5fce-4d59-a25c-c7eb1f73fa59",
   "metadata": {},
   "outputs": [
    {
     "name": "stdout",
     "output_type": "stream",
     "text": [
      "Note: you may need to restart the kernel to use updated packages.\n"
     ]
    }
   ],
   "source": [
    "pip install trino -q"
   ]
  },
  {
   "cell_type": "code",
   "execution_count": 40,
   "id": "c1d79257-1e35-48d4-8ba4-8cc75e5683d4",
   "metadata": {},
   "outputs": [
    {
     "name": "stdout",
     "output_type": "stream",
     "text": [
      "[['hive1'], ['iceberg1'], ['postgresql2'], ['system'], ['tpcds'], ['tpch']]\n"
     ]
    }
   ],
   "source": [
    "import trino\n",
    "conn = trino.dbapi.connect(\n",
    "    host='projet-arc-resil-poc-428858.kub.sspcloud.fr',\n",
    "    port=443,\n",
    "    user='projet-arc-resil-poc',\n",
    "    catalog='system',\n",
    "    schema='schema',\n",
    "    http_scheme='https',\n",
    "    auth=trino.auth.BasicAuthentication(\"projet-arc-resil-poc\", \"resilTrino\")\n",
    ")\n",
    "cur = conn.cursor()\n",
    "cur.execute('SHOW CATALOGS')\n",
    "rows = cur.fetchall()\n",
    "print(rows)"
   ]
  },
  {
   "cell_type": "code",
   "execution_count": 41,
   "id": "c7664f52-ab65-4fa7-84da-629b1da776d8",
   "metadata": {},
   "outputs": [
    {
     "name": "stdout",
     "output_type": "stream",
     "text": [
      "[['default'], ['information_schema'], ['poc']]\n"
     ]
    }
   ],
   "source": [
    "cur.execute('SHOW SCHEMAS IN hive1')\n",
    "rows = cur.fetchall()\n",
    "print(rows)"
   ]
  },
  {
   "cell_type": "code",
   "execution_count": 63,
   "id": "cc7b5f70-59a0-40db-ac72-958334c84496",
   "metadata": {},
   "outputs": [
    {
     "name": "stdout",
     "output_type": "stream",
     "text": [
      "[['datapump_table_2'], ['fip_declarant_2021_sample']]\n"
     ]
    }
   ],
   "source": [
    "cur.execute('SHOW tables IN hive1.poc')\n",
    "rows = cur.fetchall()\n",
    "print(rows)"
   ]
  },
  {
   "cell_type": "code",
   "execution_count": 43,
   "id": "1b4340ac-023c-42a4-9897-c797eda04096",
   "metadata": {},
   "outputs": [
    {
     "name": "stdout",
     "output_type": "stream",
     "text": [
      "[[9176]]\n",
      "CPU times: user 33.4 ms, sys: 0 ns, total: 33.4 ms\n",
      "Wall time: 723 ms\n"
     ]
    }
   ],
   "source": [
    "%%time\n",
    "cur.execute('SELECT count(*) from hive1.poc.datapump_table_2 where h=1')\n",
    "rows = cur.fetchall()\n",
    "print(rows)"
   ]
  },
  {
   "cell_type": "code",
   "execution_count": null,
   "id": "8b57cee4-613e-45ce-9663-0103cebf2bac",
   "metadata": {},
   "outputs": [],
   "source": []
  }
 ],
 "metadata": {
  "kernelspec": {
   "display_name": "Python 3 (ipykernel)",
   "language": "python",
   "name": "python3"
  },
  "language_info": {
   "codemirror_mode": {
    "name": "ipython",
    "version": 3
   },
   "file_extension": ".py",
   "mimetype": "text/x-python",
   "name": "python",
   "nbconvert_exporter": "python",
   "pygments_lexer": "ipython3",
   "version": "3.9.7"
  }
 },
 "nbformat": 4,
 "nbformat_minor": 5
}
